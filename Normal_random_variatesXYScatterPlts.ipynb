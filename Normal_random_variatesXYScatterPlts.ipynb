{
 "cells": [
  {
   "cell_type": "code",
   "execution_count": null,
   "metadata": {
    "collapsed": true
   },
   "outputs": [],
   "source": []
  },
  {
   "cell_type": "code",
   "execution_count": 1,
   "metadata": {},
   "outputs": [
    {
     "ename": "IndentationError",
     "evalue": "unexpected indent (<ipython-input-1-0b0ef3fd96da>, line 4)",
     "output_type": "error",
     "traceback": [
      "\u001b[0;36m  File \u001b[0;32m\"<ipython-input-1-0b0ef3fd96da>\"\u001b[0;36m, line \u001b[0;32m4\u001b[0m\n\u001b[0;31m    sampleSize = 1000\u001b[0m\n\u001b[0m    ^\u001b[0m\n\u001b[0;31mIndentationError\u001b[0m\u001b[0;31m:\u001b[0m unexpected indent\n"
     ]
    }
   ],
   "source": [
    "from sklearn.svm import SVR\n",
    "#normal random variates on both x and y dimensions.\n",
    "\n",
    "sampleSize = 1000\n",
    "\n",
    "x3 = []\n",
    "y3 = []\n",
    "\n",
    "for i in range(sampleSize):\n",
    "    x3.append(random.normalvariate(85,10))\n",
    "    y3.append(random.normalvariate(85,10))\n",
    "\n",
    "\n",
    "pylab.scatter(x3,y3,c=\"green\",alpha=0.8)\n",
    "pylab.xlabel(\"Variable 1\")\n",
    "pylab.ylabel(\"Variable 2\")\n",
    "\n",
    "x4 = []\n",
    "y4 = []\n",
    "\n",
    "for i in range(sampleSize):\n",
    "    x4.append(random.normalvariate(100,10))\n",
    "    y4.append(random.normalvariate(100,10))\n",
    "\n",
    "pylab.scatter(x4,y4,c=\"red\",alpha=0.6)\n",
    "pylab.show()\n",
    "\n",
    "svr_rbf = SVR(kernel='rbf', C=1e3, gamma=0.1)\n",
    "svr_lin = SVR(kernel='linear', C=1e3)\n",
    "svr_poly = SVR(kernel='poly', C=1e3, degree=3)\n",
    "y_rbf = svr_rbf.fit(x3, y3).predict(x3)\n",
    "#y_lin = svr_lin.fit(x3, y3).predict(x3)\n",
    "#y_poly = svr_poly.fit(x3, y3).predict(X)\n",
    "\n",
    "#lw = 2\n",
    "#plt.figure(figsize=(12, 7))\n",
    "#plt.scatter(X, y, color='darkorange', label='data')\n",
    "#plt.plot(X, y_rbf, color='navy', lw=lw, label='RBF model')\n",
    "#plt.plot(X, y_lin, color='c', lw=lw, label='Linear model')\n",
    "#plt.plot(X, y_poly, color='cornflowerblue', lw=lw, label='Polynomial model')\n",
    "#plt.xlabel('data')\n",
    "#plt.ylabel('target')\n",
    "#plt.title('Support Vector Regression')\n",
    "#plt.legend()\n",
    "#plt.show()"
   ]
  },
  {
   "cell_type": "code",
   "execution_count": null,
   "metadata": {
    "collapsed": true
   },
   "outputs": [],
   "source": []
  }
 ],
 "metadata": {
  "kernelspec": {
   "display_name": "Python 3",
   "language": "python",
   "name": "python3"
  },
  "language_info": {
   "codemirror_mode": {
    "name": "ipython",
    "version": 3
   },
   "file_extension": ".py",
   "mimetype": "text/x-python",
   "name": "python",
   "nbconvert_exporter": "python",
   "pygments_lexer": "ipython3",
   "version": "3.4.5"
  }
 },
 "nbformat": 4,
 "nbformat_minor": 2
}
